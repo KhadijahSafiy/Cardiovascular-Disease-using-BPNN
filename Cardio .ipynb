{
 "cells": [
  {
   "cell_type": "code",
   "execution_count": 1,
   "metadata": {},
   "outputs": [],
   "source": [
    "import numpy as np\n",
    "import pandas as pd\n",
    "\n",
    "from sklearn.model_selection import train_test_split\n",
    "from sklearn.preprocessing import MinMaxScaler\n",
    "\n",
    "import matplotlib.pyplot as plt\n",
    "import seaborn as sns"
   ]
  },
  {
   "cell_type": "code",
   "execution_count": 2,
   "metadata": {},
   "outputs": [],
   "source": [
    "%matplotlib inline\n",
    "sns.set_style(\"darkgrid\")"
   ]
  },
  {
   "cell_type": "markdown",
   "metadata": {},
   "source": [
    "# Data preparation "
   ]
  },
  {
   "cell_type": "code",
   "execution_count": 3,
   "metadata": {},
   "outputs": [
    {
     "data": {
      "text/html": [
       "<div>\n",
       "<style scoped>\n",
       "    .dataframe tbody tr th:only-of-type {\n",
       "        vertical-align: middle;\n",
       "    }\n",
       "\n",
       "    .dataframe tbody tr th {\n",
       "        vertical-align: top;\n",
       "    }\n",
       "\n",
       "    .dataframe thead th {\n",
       "        text-align: right;\n",
       "    }\n",
       "</style>\n",
       "<table border=\"1\" class=\"dataframe\">\n",
       "  <thead>\n",
       "    <tr style=\"text-align: right;\">\n",
       "      <th></th>\n",
       "      <th>age</th>\n",
       "      <th>gender</th>\n",
       "      <th>height</th>\n",
       "      <th>weight</th>\n",
       "      <th>ap_hi</th>\n",
       "      <th>ap_lo</th>\n",
       "      <th>cholesterol</th>\n",
       "      <th>gluc</th>\n",
       "      <th>smoke</th>\n",
       "      <th>alco</th>\n",
       "      <th>active</th>\n",
       "      <th>cardio</th>\n",
       "    </tr>\n",
       "  </thead>\n",
       "  <tbody>\n",
       "    <tr>\n",
       "      <th>0</th>\n",
       "      <td>18393</td>\n",
       "      <td>2</td>\n",
       "      <td>168</td>\n",
       "      <td>62</td>\n",
       "      <td>110</td>\n",
       "      <td>80</td>\n",
       "      <td>1</td>\n",
       "      <td>1</td>\n",
       "      <td>0</td>\n",
       "      <td>0</td>\n",
       "      <td>1</td>\n",
       "      <td>0</td>\n",
       "    </tr>\n",
       "    <tr>\n",
       "      <th>1</th>\n",
       "      <td>20228</td>\n",
       "      <td>1</td>\n",
       "      <td>156</td>\n",
       "      <td>85</td>\n",
       "      <td>140</td>\n",
       "      <td>90</td>\n",
       "      <td>3</td>\n",
       "      <td>1</td>\n",
       "      <td>0</td>\n",
       "      <td>0</td>\n",
       "      <td>1</td>\n",
       "      <td>1</td>\n",
       "    </tr>\n",
       "    <tr>\n",
       "      <th>2</th>\n",
       "      <td>18857</td>\n",
       "      <td>1</td>\n",
       "      <td>165</td>\n",
       "      <td>64</td>\n",
       "      <td>130</td>\n",
       "      <td>70</td>\n",
       "      <td>3</td>\n",
       "      <td>1</td>\n",
       "      <td>0</td>\n",
       "      <td>0</td>\n",
       "      <td>0</td>\n",
       "      <td>1</td>\n",
       "    </tr>\n",
       "    <tr>\n",
       "      <th>3</th>\n",
       "      <td>17623</td>\n",
       "      <td>2</td>\n",
       "      <td>169</td>\n",
       "      <td>82</td>\n",
       "      <td>150</td>\n",
       "      <td>100</td>\n",
       "      <td>1</td>\n",
       "      <td>1</td>\n",
       "      <td>0</td>\n",
       "      <td>0</td>\n",
       "      <td>1</td>\n",
       "      <td>1</td>\n",
       "    </tr>\n",
       "    <tr>\n",
       "      <th>4</th>\n",
       "      <td>17474</td>\n",
       "      <td>1</td>\n",
       "      <td>156</td>\n",
       "      <td>56</td>\n",
       "      <td>100</td>\n",
       "      <td>60</td>\n",
       "      <td>1</td>\n",
       "      <td>1</td>\n",
       "      <td>0</td>\n",
       "      <td>0</td>\n",
       "      <td>0</td>\n",
       "      <td>0</td>\n",
       "    </tr>\n",
       "  </tbody>\n",
       "</table>\n",
       "</div>"
      ],
      "text/plain": [
       "     age  gender  height  weight  ap_hi  ap_lo  cholesterol  gluc  smoke  \\\n",
       "0  18393       2     168      62    110     80            1     1      0   \n",
       "1  20228       1     156      85    140     90            3     1      0   \n",
       "2  18857       1     165      64    130     70            3     1      0   \n",
       "3  17623       2     169      82    150    100            1     1      0   \n",
       "4  17474       1     156      56    100     60            1     1      0   \n",
       "\n",
       "   alco  active  cardio  \n",
       "0     0       1       0  \n",
       "1     0       1       1  \n",
       "2     0       0       1  \n",
       "3     0       1       1  \n",
       "4     0       0       0  "
      ]
     },
     "execution_count": 3,
     "metadata": {},
     "output_type": "execute_result"
    }
   ],
   "source": [
    "df = pd.read_csv(\"cardionew.csv\")\n",
    "df = df.drop([\"id\"], axis=1)\n",
    "\n",
    "# min-max-scaling continuous attribute (normalize)\n",
    "scaler = MinMaxScaler()\n",
    "df[[\"age\", \"height\",\"weight\",\"ap_hi\",\"ap_lo\"]] = scaler.fit_transform(df[[\"age\", \"height\",\"weight\",\"ap_hi\",\"ap_lo\"]])\n",
    "\n",
    "# one-hot-encoding - div binary value\n",
    "df = pd.get_dummies(df, columns=[\"cholesterol\", \"gender\",\"gluc\",\"smoke\",\"alco\",\"active\"])\n",
    "\n",
    "df.head()"
   ]
  },
  {
   "cell_type": "markdown",
   "metadata": {},
   "source": [
    "# Train-Test-Split"
   ]
  },
  {
   "cell_type": "code",
   "execution_count": 4,
   "metadata": {},
   "outputs": [],
   "source": [
    "x = df.drop(\"cardio\", axis=1).values\n",
    "y = df.cardio.values\n",
    "\n",
    "x_train, x_test, y_train, y_test = train_test_split(x, y, test_size=0.1, random_state=0)\n",
    "\n",
    "y_train = y_train.reshape((-1,1))\n",
    "y_test = y_test.reshape((-1,1))"
   ]
  },
  {
   "cell_type": "markdown",
   "metadata": {},
   "source": [
    "# Helper Functions"
   ]
  },
  {
   "cell_type": "code",
   "execution_count": 5,
   "metadata": {},
   "outputs": [],
   "source": [
    "def sigmoid(x):\n",
    "    return 1 / (1 + np.exp(-x))\n",
    "\n",
    "def mean_squared_error(predictions, labels):\n",
    "    N = labels.size \n",
    "    mse = ((predictions - labels)**2).sum() / (2*N)\n",
    "    return mse\n",
    "\n",
    "def accuracy(predictions, labels):\n",
    "    predicions_correct = predictions.round() == labels\n",
    "    accuracy = predicions_correct.mean()\n",
    "    \n",
    "    return accuracy"
   ]
  },
  {
   "cell_type": "markdown",
   "metadata": {},
   "source": [
    "# Hyperparameters"
   ]
  },
  {
   "cell_type": "code",
   "execution_count": 6,
   "metadata": {},
   "outputs": [],
   "source": [
    "learning_rate = 0.5\n",
    "epochs = 10000\n",
    "\n",
    "n_input = 19\n",
    "n_hidden = 4\n",
    "n_output = 1"
   ]
  },
  {
   "cell_type": "markdown",
   "metadata": {},
   "source": [
    "# Weight Initialization"
   ]
  },
  {
   "cell_type": "code",
   "execution_count": 12,
   "metadata": {},
   "outputs": [],
   "source": [
    "np.random.seed(10)\n",
    "weights_1 = np.random.normal(scale=0.5, size=(n_input, n_hidden))   # (19, 4)\n",
    "weights_2 = np.random.normal(scale=0.5, size=(n_hidden, n_output))  # (4, 1)\n",
    "#df.shape"
   ]
  },
  {
   "cell_type": "markdown",
   "metadata": {},
   "source": [
    "# Training the Neural Network"
   ]
  },
  {
   "cell_type": "code",
   "execution_count": 8,
   "metadata": {},
   "outputs": [
    {
     "name": "stdout",
     "output_type": "stream",
     "text": [
      "Epoch:0, Accuracy:0.49443757725587145, Mean Squared Error:0.1479247956468836\n",
      "Epoch:100, Accuracy:0.6390605686032138, Mean Squared Error:0.12122395129298881\n",
      "Epoch:200, Accuracy:0.6279357231149567, Mean Squared Error:0.1190520736725423\n",
      "Epoch:300, Accuracy:0.6242274412855378, Mean Squared Error:0.11712905535267056\n",
      "Epoch:400, Accuracy:0.6217552533992583, Mean Squared Error:0.11544648746466282\n",
      "Epoch:500, Accuracy:0.6266996291718171, Mean Squared Error:0.11397132654844552\n",
      "Epoch:600, Accuracy:0.6341161928306551, Mean Squared Error:0.11265129368197382\n",
      "Epoch:700, Accuracy:0.6378244746600742, Mean Squared Error:0.11144304285124945\n",
      "Epoch:800, Accuracy:0.6489493201483313, Mean Squared Error:0.11032121096732159\n",
      "Epoch:900, Accuracy:0.6514215080346106, Mean Squared Error:0.10927165865018748\n",
      "Epoch:1000, Accuracy:0.65389369592089, Mean Squared Error:0.10828450976671339\n",
      "Epoch:1100, Accuracy:0.6588380716934487, Mean Squared Error:0.10735161287535684\n",
      "Epoch:1200, Accuracy:0.6674907292954264, Mean Squared Error:0.10646609271195812\n",
      "Epoch:1300, Accuracy:0.6711990111248455, Mean Squared Error:0.10562212236675765\n",
      "Epoch:1400, Accuracy:0.6835599505562423, Mean Squared Error:0.10481459084195353\n",
      "Epoch:1500, Accuracy:0.6847960444993819, Mean Squared Error:0.10403881420974838\n",
      "Epoch:1600, Accuracy:0.6897404202719407, Mean Squared Error:0.10329037784231332\n",
      "Epoch:1700, Accuracy:0.69221260815822, Mean Squared Error:0.10256509927526669\n",
      "Epoch:1800, Accuracy:0.6897404202719407, Mean Squared Error:0.10185906908038143\n",
      "Epoch:1900, Accuracy:0.6946847960444994, Mean Squared Error:0.10116873103557415\n",
      "Epoch:2000, Accuracy:0.6946847960444994, Mean Squared Error:0.10049097369653343\n",
      "Epoch:2100, Accuracy:0.7008652657601978, Mean Squared Error:0.09982321365223333\n",
      "Epoch:2200, Accuracy:0.6983930778739185, Mean Squared Error:0.09916345649266001\n",
      "Epoch:2300, Accuracy:0.6971569839307787, Mean Squared Error:0.098510326617315\n",
      "Epoch:2400, Accuracy:0.6996291718170581, Mean Squared Error:0.09786306210261586\n",
      "Epoch:2500, Accuracy:0.7058096415327565, Mean Squared Error:0.09722147557046994\n",
      "Epoch:2600, Accuracy:0.7095179233621756, Mean Squared Error:0.09658588580198771\n",
      "Epoch:2700, Accuracy:0.715698393077874, Mean Squared Error:0.09595702741414651\n",
      "Epoch:2800, Accuracy:0.7206427688504327, Mean Squared Error:0.09533594725378156\n",
      "Epoch:2900, Accuracy:0.7206427688504327, Mean Squared Error:0.0947238964158085\n",
      "Epoch:3000, Accuracy:0.7243510506798516, Mean Squared Error:0.09412222615923967\n",
      "Epoch:3100, Accuracy:0.73053152039555, Mean Squared Error:0.09353229467658392\n",
      "Epoch:3200, Accuracy:0.7317676143386898, Mean Squared Error:0.09295538988069764\n",
      "Epoch:3300, Accuracy:0.7354758961681088, Mean Squared Error:0.09239267133873964\n",
      "Epoch:3400, Accuracy:0.7404202719406675, Mean Squared Error:0.0918451324432514\n",
      "Epoch:3500, Accuracy:0.7490729295426453, Mean Squared Error:0.09131358207668949\n",
      "Epoch:3600, Accuracy:0.7490729295426453, Mean Squared Error:0.09079864354566773\n",
      "Epoch:3700, Accuracy:0.7503090234857849, Mean Squared Error:0.09030076749829469\n",
      "Epoch:3800, Accuracy:0.7515451174289246, Mean Squared Error:0.08982025487853401\n",
      "Epoch:3900, Accuracy:0.7515451174289246, Mean Squared Error:0.08935728565651359\n",
      "Epoch:4000, Accuracy:0.7527812113720643, Mean Squared Error:0.08891194904417223\n",
      "Epoch:4100, Accuracy:0.7552533992583437, Mean Squared Error:0.08848427114289174\n",
      "Epoch:4200, Accuracy:0.7552533992583437, Mean Squared Error:0.08807423651281224\n",
      "Epoch:4300, Accuracy:0.757725587144623, Mean Squared Error:0.08768180107850469\n",
      "Epoch:4400, Accuracy:0.7589616810877626, Mean Squared Error:0.087306895142313\n",
      "Epoch:4500, Accuracy:0.7601977750309024, Mean Squared Error:0.08694941699758002\n",
      "Epoch:4600, Accuracy:0.7601977750309024, Mean Squared Error:0.08660921946151479\n",
      "Epoch:4700, Accuracy:0.761433868974042, Mean Squared Error:0.08628609314293452\n",
      "Epoch:4800, Accuracy:0.7601977750309024, Mean Squared Error:0.0859797509385582\n",
      "Epoch:4900, Accuracy:0.7639060568603214, Mean Squared Error:0.08568981781047738\n",
      "Epoch:5000, Accuracy:0.7663782447466008, Mean Squared Error:0.08541582841616525\n",
      "Epoch:5100, Accuracy:0.7663782447466008, Mean Squared Error:0.0851572331246495\n",
      "Epoch:5200, Accuracy:0.7663782447466008, Mean Squared Error:0.0849134110431557\n",
      "Epoch:5300, Accuracy:0.7676143386897404, Mean Squared Error:0.08468368746582913\n",
      "Epoch:5400, Accuracy:0.7688504326328801, Mean Squared Error:0.08446735285729813\n",
      "Epoch:5500, Accuracy:0.7663782447466008, Mean Squared Error:0.08426368094332755\n",
      "Epoch:5600, Accuracy:0.7663782447466008, Mean Squared Error:0.08407194433249016\n",
      "Epoch:5700, Accuracy:0.7663782447466008, Mean Squared Error:0.08389142697020555\n",
      "Epoch:5800, Accuracy:0.765142150803461, Mean Squared Error:0.08372143339856843\n",
      "Epoch:5900, Accuracy:0.7639060568603214, Mean Squared Error:0.08356129519089008\n",
      "Epoch:6000, Accuracy:0.7639060568603214, Mean Squared Error:0.0834103750879787\n",
      "Epoch:6100, Accuracy:0.7676143386897404, Mean Squared Error:0.08326806936666849\n",
      "Epoch:6200, Accuracy:0.7688504326328801, Mean Squared Error:0.0831338088985871\n",
      "Epoch:6300, Accuracy:0.7688504326328801, Mean Squared Error:0.08300705926265638\n",
      "Epoch:6400, Accuracy:0.7688504326328801, Mean Squared Error:0.082887320186864\n",
      "Epoch:6500, Accuracy:0.7676143386897404, Mean Squared Error:0.08277412452385977\n",
      "Epoch:6600, Accuracy:0.7688504326328801, Mean Squared Error:0.08266703691157258\n",
      "Epoch:6700, Accuracy:0.7700865265760197, Mean Squared Error:0.08256565223108629\n",
      "Epoch:6800, Accuracy:0.7713226205191595, Mean Squared Error:0.0824695939456002\n",
      "Epoch:6900, Accuracy:0.7713226205191595, Mean Squared Error:0.08237851238324077\n",
      "Epoch:7000, Accuracy:0.7713226205191595, Mean Squared Error:0.08229208301053396\n",
      "Epoch:7100, Accuracy:0.7713226205191595, Mean Squared Error:0.0822100047310214\n",
      "Epoch:7200, Accuracy:0.7713226205191595, Mean Squared Error:0.08213199823386895\n",
      "Epoch:7300, Accuracy:0.7713226205191595, Mean Squared Error:0.08205780440976485\n",
      "Epoch:7400, Accuracy:0.7713226205191595, Mean Squared Error:0.08198718284550122\n",
      "Epoch:7500, Accuracy:0.7713226205191595, Mean Squared Error:0.0819199104040675\n",
      "Epoch:7600, Accuracy:0.7713226205191595, Mean Squared Error:0.08185577989359123\n",
      "Epoch:7700, Accuracy:0.7713226205191595, Mean Squared Error:0.08179459882583816\n",
      "Epoch:7800, Accuracy:0.7725587144622992, Mean Squared Error:0.08173618826304804\n",
      "Epoch:7900, Accuracy:0.7713226205191595, Mean Squared Error:0.08168038175049519\n",
      "Epoch:8000, Accuracy:0.7713226205191595, Mean Squared Error:0.08162702433119895\n",
      "Epoch:8100, Accuracy:0.7713226205191595, Mean Squared Error:0.0815759716385777\n",
      "Epoch:8200, Accuracy:0.7713226205191595, Mean Squared Error:0.08152708906245984\n",
      "Epoch:8300, Accuracy:0.7713226205191595, Mean Squared Error:0.08148025098367707\n",
      "Epoch:8400, Accuracy:0.7713226205191595, Mean Squared Error:0.08143534007242108\n",
      "Epoch:8500, Accuracy:0.7713226205191595, Mean Squared Error:0.08139224664560615\n",
      "Epoch:8600, Accuracy:0.7713226205191595, Mean Squared Error:0.08135086807861815\n",
      "Epoch:8700, Accuracy:0.7700865265760197, Mean Squared Error:0.08131110826702297\n",
      "Epoch:8800, Accuracy:0.7688504326328801, Mean Squared Error:0.081272877134035\n",
      "Epoch:8900, Accuracy:0.7700865265760197, Mean Squared Error:0.08123609017979738\n",
      "Epoch:9000, Accuracy:0.7700865265760197, Mean Squared Error:0.08120066806878823\n",
      "Epoch:9100, Accuracy:0.7700865265760197, Mean Squared Error:0.08116653625193311\n",
      "Epoch:9200, Accuracy:0.7713226205191595, Mean Squared Error:0.08113362462026813\n",
      "Epoch:9300, Accuracy:0.7713226205191595, Mean Squared Error:0.08110186718725579\n",
      "Epoch:9400, Accuracy:0.7700865265760197, Mean Squared Error:0.08107120179710105\n",
      "Epoch:9500, Accuracy:0.7700865265760197, Mean Squared Error:0.08104156985665152\n",
      "Epoch:9600, Accuracy:0.7713226205191595, Mean Squared Error:0.08101291608868429\n",
      "Epoch:9700, Accuracy:0.7713226205191595, Mean Squared Error:0.08098518830458877\n",
      "Epoch:9800, Accuracy:0.7713226205191595, Mean Squared Error:0.08095833719464464\n",
      "Epoch:9900, Accuracy:0.7700865265760197, Mean Squared Error:0.08093231613426947\n"
     ]
    }
   ],
   "source": [
    "N = y_train.size\n",
    "monitoring = {\"mean_squared_error\": [], \"accuracy\": []}\n",
    "for epoch in range(epochs):\n",
    "\n",
    "    # feedforward\n",
    "    hidden_layer = sigmoid(np.dot(x_train, weights_1))        # (899, 4)\n",
    "    output_layer = sigmoid(np.dot(hidden_layer, weights_2))   # (899, 1)\n",
    "    \n",
    "    # monitor training process\n",
    "    acc = accuracy(output_layer, y_train)\n",
    "    mse = mean_squared_error(output_layer, y_train)\n",
    "    monitoring[\"accuracy\"].append(acc)\n",
    "    monitoring[\"mean_squared_error\"].append(mse)\n",
    " \n",
    "    # backpropagation\n",
    "    output_layer_delta = (output_layer - y_train) * output_layer * (1 - output_layer)                 # (712, 1)\n",
    "    hidden_layer_delta = np.dot(output_layer_delta, weights_2.T) * hidden_layer * (1 - hidden_layer)  # (712, 4)\n",
    "\n",
    "    # weight updates\n",
    "    weights_2 -= learning_rate * np.dot(hidden_layer.T, output_layer_delta) / N   # (4, 1)\n",
    "    weights_1 -= learning_rate * np.dot(x_train.T, hidden_layer_delta) / N        # (24, 4)\n",
    "\n",
    "    if (epoch%100==0):\n",
    "        print(f'Epoch:{epoch}, Accuracy:{acc}, Mean Squared Error:{mse}')\n",
    "\n",
    "monitoring_df = pd.DataFrame(monitoring)"
   ]
  },
  {
   "cell_type": "code",
   "execution_count": 9,
   "metadata": {},
   "outputs": [
    {
     "data": {
      "image/png": "[encoded data removed]",
      "text/plain": [
       "<Figure size 1080x360 with 2 Axes>"
      ]
     },
     "metadata": {},
     "output_type": "display_data"
    }
   ],
   "source": [
    "fig, axes = plt.subplots(1, 2, figsize=(15,5))\n",
    "\n",
    "monitoring_df.mean_squared_error.plot(ax=axes[0], title=\"Mean Squared Error\")\n",
    "monitoring_df.accuracy.plot(ax=axes[1], title=\"Accuracy\");"
   ]
  },
  {
   "cell_type": "markdown",
   "metadata": {},
   "source": [
    "# Test Data"
   ]
  },
  {
   "cell_type": "code",
   "execution_count": 10,
   "metadata": {},
   "outputs": [],
   "source": [
    "# feedforward\n",
    "hidden_layer_inputs = np.dot(x_test, weights_1)\n",
    "hidden_layer_outputs = sigmoid(hidden_layer_inputs)\n",
    "\n",
    "output_layer_inputs = np.dot(hidden_layer_outputs, weights_2)\n",
    "output_layer_outputs = sigmoid(output_layer_inputs)"
   ]
  },
  {
   "cell_type": "code",
   "execution_count": 11,
   "metadata": {},
   "outputs": [
    {
     "name": "stdout",
     "output_type": "stream",
     "text": [
      "Accuracy: 0.7555555555555555\n"
     ]
    }
   ],
   "source": [
    "acc = accuracy(output_layer_outputs, y_test)\n",
    "print(\"Accuracy: {}\".format(acc))"
   ]
  },
  {
   "cell_type": "code",
   "execution_count": null,
   "metadata": {},
   "outputs": [],
   "source": []
  }
 ],
 "metadata": {
  "kernelspec": {
   "display_name": "Python 3",
   "language": "python",
   "name": "python3"
  },
  "language_info": {
   "codemirror_mode": {
    "name": "ipython",
    "version": 3
   },
   "file_extension": ".py",
   "mimetype": "text/x-python",
   "name": "python",
   "nbconvert_exporter": "python",
   "pygments_lexer": "ipython3",
   "version": "3.8.5"
  }
 },
 "nbformat": 4,
 "nbformat_minor": 4
}
